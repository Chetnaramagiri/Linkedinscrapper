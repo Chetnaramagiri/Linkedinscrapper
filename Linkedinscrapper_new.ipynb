{
 "cells": [
  {
   "cell_type": "code",
   "execution_count": 22,
   "id": "64217a00-db50-46e0-93eb-75f4396de27b",
   "metadata": {},
   "outputs": [
    {
     "name": "stdout",
     "output_type": "stream",
     "text": [
      "Requirement already satisfied: selenium in c:\\users\\chetn\\anaconda_new\\envs\\notebook_jupyter\\lib\\site-packages (4.18.1)\n",
      "Requirement already satisfied: urllib3<3,>=1.26 in c:\\users\\chetn\\anaconda_new\\envs\\notebook_jupyter\\lib\\site-packages (from urllib3[socks]<3,>=1.26->selenium) (2.1.0)\n",
      "Requirement already satisfied: trio~=0.17 in c:\\users\\chetn\\anaconda_new\\envs\\notebook_jupyter\\lib\\site-packages (from selenium) (0.24.0)\n",
      "Requirement already satisfied: trio-websocket~=0.9 in c:\\users\\chetn\\anaconda_new\\envs\\notebook_jupyter\\lib\\site-packages (from selenium) (0.11.1)\n",
      "Requirement already satisfied: certifi>=2021.10.8 in c:\\users\\chetn\\anaconda_new\\envs\\notebook_jupyter\\lib\\site-packages (from selenium) (2024.2.2)\n",
      "Requirement already satisfied: typing_extensions>=4.9.0 in c:\\users\\chetn\\anaconda_new\\envs\\notebook_jupyter\\lib\\site-packages (from selenium) (4.9.0)\n",
      "Requirement already satisfied: attrs>=20.1.0 in c:\\users\\chetn\\anaconda_new\\envs\\notebook_jupyter\\lib\\site-packages (from trio~=0.17->selenium) (23.1.0)\n",
      "Requirement already satisfied: sortedcontainers in c:\\users\\chetn\\anaconda_new\\envs\\notebook_jupyter\\lib\\site-packages (from trio~=0.17->selenium) (2.4.0)\n",
      "Requirement already satisfied: idna in c:\\users\\chetn\\anaconda_new\\envs\\notebook_jupyter\\lib\\site-packages (from trio~=0.17->selenium) (3.4)\n",
      "Requirement already satisfied: outcome in c:\\users\\chetn\\anaconda_new\\envs\\notebook_jupyter\\lib\\site-packages (from trio~=0.17->selenium) (1.3.0.post0)\n",
      "Requirement already satisfied: sniffio>=1.3.0 in c:\\users\\chetn\\anaconda_new\\envs\\notebook_jupyter\\lib\\site-packages (from trio~=0.17->selenium) (1.3.0)\n",
      "Requirement already satisfied: cffi>=1.14 in c:\\users\\chetn\\anaconda_new\\envs\\notebook_jupyter\\lib\\site-packages (from trio~=0.17->selenium) (1.16.0)\n",
      "Requirement already satisfied: wsproto>=0.14 in c:\\users\\chetn\\anaconda_new\\envs\\notebook_jupyter\\lib\\site-packages (from trio-websocket~=0.9->selenium) (1.2.0)\n",
      "Requirement already satisfied: pysocks!=1.5.7,<2.0,>=1.5.6 in c:\\users\\chetn\\anaconda_new\\envs\\notebook_jupyter\\lib\\site-packages (from urllib3[socks]<3,>=1.26->selenium) (1.7.1)\n",
      "Requirement already satisfied: pycparser in c:\\users\\chetn\\anaconda_new\\envs\\notebook_jupyter\\lib\\site-packages (from cffi>=1.14->trio~=0.17->selenium) (2.21)\n",
      "Requirement already satisfied: h11<1,>=0.9.0 in c:\\users\\chetn\\anaconda_new\\envs\\notebook_jupyter\\lib\\site-packages (from wsproto>=0.14->trio-websocket~=0.9->selenium) (0.14.0)\n"
     ]
    }
   ],
   "source": [
    "!pip install selenium\n",
    "\n",
    "\n",
    "\n",
    "\n",
    "\n"
   ]
  },
  {
   "cell_type": "code",
   "execution_count": 23,
   "id": "c9def111-e7da-4f7e-bcb8-3eb7aaaabb42",
   "metadata": {},
   "outputs": [],
   "source": [
    "from selenium import webdriver\n",
    "from selenium.webdriver.firefox.options import Options\n",
    "\n",
    "\n"
   ]
  },
  {
   "cell_type": "code",
   "execution_count": 24,
   "id": "4d7b4a92-ae07-403e-99b4-79c80c9fca3f",
   "metadata": {},
   "outputs": [],
   "source": [
    "\n",
    "options = Options()\n",
    "options.binary_location = r'C:\\Program Files\\Mozilla Firefox\\firefox.exe'\n",
    "\n"
   ]
  },
  {
   "cell_type": "code",
   "execution_count": 25,
   "id": "1dfad8ff-ddb4-49c2-851c-661bd87bd118",
   "metadata": {},
   "outputs": [
    {
     "name": "stdout",
     "output_type": "stream",
     "text": [
      "Requirement already satisfied: webdriver_manager in c:\\users\\chetn\\anaconda_new\\envs\\notebook_jupyter\\lib\\site-packages (4.0.1)\n",
      "Requirement already satisfied: requests in c:\\users\\chetn\\anaconda_new\\envs\\notebook_jupyter\\lib\\site-packages (from webdriver_manager) (2.31.0)\n",
      "Requirement already satisfied: python-dotenv in c:\\users\\chetn\\anaconda_new\\envs\\notebook_jupyter\\lib\\site-packages (from webdriver_manager) (1.0.1)\n",
      "Requirement already satisfied: packaging in c:\\users\\chetn\\anaconda_new\\envs\\notebook_jupyter\\lib\\site-packages (from webdriver_manager) (23.1)\n",
      "Requirement already satisfied: charset-normalizer<4,>=2 in c:\\users\\chetn\\anaconda_new\\envs\\notebook_jupyter\\lib\\site-packages (from requests->webdriver_manager) (2.0.4)\n",
      "Requirement already satisfied: idna<4,>=2.5 in c:\\users\\chetn\\anaconda_new\\envs\\notebook_jupyter\\lib\\site-packages (from requests->webdriver_manager) (3.4)\n",
      "Requirement already satisfied: urllib3<3,>=1.21.1 in c:\\users\\chetn\\anaconda_new\\envs\\notebook_jupyter\\lib\\site-packages (from requests->webdriver_manager) (2.1.0)\n",
      "Requirement already satisfied: certifi>=2017.4.17 in c:\\users\\chetn\\anaconda_new\\envs\\notebook_jupyter\\lib\\site-packages (from requests->webdriver_manager) (2024.2.2)\n",
      "Note: you may need to restart the kernel to use updated packages.\n"
     ]
    }
   ],
   "source": [
    "pip install webdriver_manager\n"
   ]
  },
  {
   "cell_type": "code",
   "execution_count": 26,
   "id": "d0b16bf0-aea7-4a45-bc21-31b4662e6bc3",
   "metadata": {},
   "outputs": [
    {
     "data": {
      "text/plain": [
       "'C:\\\\Users\\\\chetn\\\\.wdm\\\\drivers\\\\geckodriver\\\\win64\\\\v0.34.0\\\\geckodriver.exe'"
      ]
     },
     "execution_count": 26,
     "metadata": {},
     "output_type": "execute_result"
    }
   ],
   "source": [
    "from selenium import webdriver\n",
    "from selenium.webdriver.common.by import By\n",
    "from selenium.webdriver.common.keys import Keys\n",
    "from webdriver_manager.firefox import GeckoDriverManager\n",
    "import time\n",
    "\n",
    "\n",
    "\n",
    "# LinkedIn credentials\n",
    "linkedin_email = \"chetnagirish2@gmail.com\"\n",
    "linkedin_password = \"Boss1234$\"\n",
    "\n",
    "# Set up GeckoDriver\n",
    "GeckoDriverManager().install()"
   ]
  },
  {
   "cell_type": "code",
   "execution_count": 27,
   "id": "271f2b96-8514-458b-9766-e97e8ce3ae0b",
   "metadata": {},
   "outputs": [],
   "source": [
    "# Initialize the Firefox webdriver\n",
    "options = Options()\n",
    "driver = webdriver.Firefox(options=options)"
   ]
  },
  {
   "cell_type": "code",
   "execution_count": 28,
   "id": "43861e0b-88b2-42fd-9dcf-72b02e5a3232",
   "metadata": {},
   "outputs": [],
   "source": [
    "# Open LinkedIn login page\n",
    "driver.get('https://www.linkedin.com/jobs')"
   ]
  },
  {
   "cell_type": "code",
   "execution_count": 29,
   "id": "1025421f-7bd3-42f5-8345-9d2eafa55aeb",
   "metadata": {},
   "outputs": [],
   "source": [
    "email_input = driver.find_element(\"name\", \"session_key\")\n",
    "password_input = driver.find_element(\"name\", \"session_password\")\n",
    "login_button = driver.find_element(\"xpath\", \"//button[@type='submit']\")"
   ]
  },
  {
   "cell_type": "code",
   "execution_count": 30,
   "id": "e2693b46-f5c5-40b5-9c79-9e48752ceaa7",
   "metadata": {},
   "outputs": [],
   "source": [
    "email_input.send_keys(linkedin_email)\n",
    "password_input.send_keys(linkedin_password)"
   ]
  },
  {
   "cell_type": "code",
   "execution_count": 31,
   "id": "ac89b4a3-458f-41ef-911b-16187550b4ed",
   "metadata": {},
   "outputs": [],
   "source": [
    "login_button.click()"
   ]
  }
 ],
 "metadata": {
  "kernelspec": {
   "display_name": "Python 3 (ipykernel)",
   "language": "python",
   "name": "python3"
  },
  "language_info": {
   "codemirror_mode": {
    "name": "ipython",
    "version": 3
   },
   "file_extension": ".py",
   "mimetype": "text/x-python",
   "name": "python",
   "nbconvert_exporter": "python",
   "pygments_lexer": "ipython3",
   "version": "3.12.2"
  }
 },
 "nbformat": 4,
 "nbformat_minor": 5
}
