{
 "cells": [
  {
   "cell_type": "code",
   "execution_count": 157,
   "id": "64217a00-db50-46e0-93eb-75f4396de27b",
   "metadata": {},
   "outputs": [
    {
     "name": "stdout",
     "output_type": "stream",
     "text": [
      "Requirement already satisfied: selenium in c:\\users\\chetn\\anaconda_new\\envs\\notebook\\lib\\site-packages (4.18.1)\n",
      "Requirement already satisfied: urllib3<3,>=1.26 in c:\\users\\chetn\\anaconda_new\\envs\\notebook\\lib\\site-packages (from urllib3[socks]<3,>=1.26->selenium) (2.1.0)\n",
      "Requirement already satisfied: trio~=0.17 in c:\\users\\chetn\\anaconda_new\\envs\\notebook\\lib\\site-packages (from selenium) (0.24.0)\n",
      "Requirement already satisfied: trio-websocket~=0.9 in c:\\users\\chetn\\anaconda_new\\envs\\notebook\\lib\\site-packages (from selenium) (0.11.1)\n",
      "Requirement already satisfied: certifi>=2021.10.8 in c:\\users\\chetn\\anaconda_new\\envs\\notebook\\lib\\site-packages (from selenium) (2024.2.2)\n",
      "Requirement already satisfied: typing_extensions>=4.9.0 in c:\\users\\chetn\\anaconda_new\\envs\\notebook\\lib\\site-packages (from selenium) (4.9.0)\n",
      "Requirement already satisfied: attrs>=20.1.0 in c:\\users\\chetn\\anaconda_new\\envs\\notebook\\lib\\site-packages (from trio~=0.17->selenium) (23.1.0)\n",
      "Requirement already satisfied: sortedcontainers in c:\\users\\chetn\\anaconda_new\\envs\\notebook\\lib\\site-packages (from trio~=0.17->selenium) (2.4.0)\n",
      "Requirement already satisfied: idna in c:\\users\\chetn\\anaconda_new\\envs\\notebook\\lib\\site-packages (from trio~=0.17->selenium) (3.4)\n",
      "Requirement already satisfied: outcome in c:\\users\\chetn\\anaconda_new\\envs\\notebook\\lib\\site-packages (from trio~=0.17->selenium) (1.3.0.post0)\n",
      "Requirement already satisfied: sniffio>=1.3.0 in c:\\users\\chetn\\anaconda_new\\envs\\notebook\\lib\\site-packages (from trio~=0.17->selenium) (1.3.0)\n",
      "Requirement already satisfied: cffi>=1.14 in c:\\users\\chetn\\anaconda_new\\envs\\notebook\\lib\\site-packages (from trio~=0.17->selenium) (1.16.0)\n",
      "Requirement already satisfied: wsproto>=0.14 in c:\\users\\chetn\\anaconda_new\\envs\\notebook\\lib\\site-packages (from trio-websocket~=0.9->selenium) (1.2.0)\n",
      "Requirement already satisfied: pysocks!=1.5.7,<2.0,>=1.5.6 in c:\\users\\chetn\\anaconda_new\\envs\\notebook\\lib\\site-packages (from urllib3[socks]<3,>=1.26->selenium) (1.7.1)\n",
      "Requirement already satisfied: pycparser in c:\\users\\chetn\\anaconda_new\\envs\\notebook\\lib\\site-packages (from cffi>=1.14->trio~=0.17->selenium) (2.21)\n",
      "Requirement already satisfied: h11<1,>=0.9.0 in c:\\users\\chetn\\anaconda_new\\envs\\notebook\\lib\\site-packages (from wsproto>=0.14->trio-websocket~=0.9->selenium) (0.14.0)\n"
     ]
    }
   ],
   "source": [
    "!pip install selenium\n",
    "\n",
    "\n",
    "\n",
    "\n",
    "\n"
   ]
  },
  {
   "cell_type": "code",
   "execution_count": 158,
   "id": "c9def111-e7da-4f7e-bcb8-3eb7aaaabb42",
   "metadata": {},
   "outputs": [],
   "source": [
    "from selenium import webdriver\n",
    "from selenium.webdriver.firefox.options import Options\n",
    "\n",
    "\n"
   ]
  },
  {
   "cell_type": "code",
   "execution_count": 159,
   "id": "4d7b4a92-ae07-403e-99b4-79c80c9fca3f",
   "metadata": {},
   "outputs": [],
   "source": [
    "\n",
    "options = Options()\n",
    "options.binary_location = r'C:\\Program Files\\Mozilla Firefox\\firefox.exe'\n",
    "\n"
   ]
  },
  {
   "cell_type": "code",
   "execution_count": 160,
   "id": "1dfad8ff-ddb4-49c2-851c-661bd87bd118",
   "metadata": {},
   "outputs": [
    {
     "name": "stdout",
     "output_type": "stream",
     "text": [
      "Requirement already satisfied: webdriver_manager in c:\\users\\chetn\\anaconda_new\\envs\\notebook\\lib\\site-packages (4.0.1)Note: you may need to restart the kernel to use updated packages.\n",
      "\n",
      "Requirement already satisfied: requests in c:\\users\\chetn\\anaconda_new\\envs\\notebook\\lib\\site-packages (from webdriver_manager) (2.31.0)\n",
      "Requirement already satisfied: python-dotenv in c:\\users\\chetn\\anaconda_new\\envs\\notebook\\lib\\site-packages (from webdriver_manager) (1.0.1)\n",
      "Requirement already satisfied: packaging in c:\\users\\chetn\\anaconda_new\\envs\\notebook\\lib\\site-packages (from webdriver_manager) (23.1)\n",
      "Requirement already satisfied: charset-normalizer<4,>=2 in c:\\users\\chetn\\anaconda_new\\envs\\notebook\\lib\\site-packages (from requests->webdriver_manager) (2.0.4)\n",
      "Requirement already satisfied: idna<4,>=2.5 in c:\\users\\chetn\\anaconda_new\\envs\\notebook\\lib\\site-packages (from requests->webdriver_manager) (3.4)\n",
      "Requirement already satisfied: urllib3<3,>=1.21.1 in c:\\users\\chetn\\anaconda_new\\envs\\notebook\\lib\\site-packages (from requests->webdriver_manager) (2.1.0)\n",
      "Requirement already satisfied: certifi>=2017.4.17 in c:\\users\\chetn\\anaconda_new\\envs\\notebook\\lib\\site-packages (from requests->webdriver_manager) (2024.2.2)\n"
     ]
    }
   ],
   "source": [
    "pip install webdriver_manager\n"
   ]
  },
  {
   "cell_type": "code",
   "execution_count": 161,
   "id": "d0b16bf0-aea7-4a45-bc21-31b4662e6bc3",
   "metadata": {},
   "outputs": [
    {
     "data": {
      "text/plain": [
       "'C:\\\\Users\\\\chetn\\\\.wdm\\\\drivers\\\\geckodriver\\\\win64\\\\v0.34.0\\\\geckodriver.exe'"
      ]
     },
     "execution_count": 161,
     "metadata": {},
     "output_type": "execute_result"
    }
   ],
   "source": [
    "from selenium import webdriver\n",
    "from selenium.webdriver.common.by import By\n",
    "from selenium.webdriver.common.keys import Keys\n",
    "from webdriver_manager.firefox import GeckoDriverManager\n",
    "import time\n",
    "\n",
    "\n",
    "\n",
    "# LinkedIn credentials\n",
    "linkedin_email = \"chetnagirish2@gmail.com\"\n",
    "linkedin_password = \"Boss1234$\"\n",
    "\n",
    "# Set up GeckoDriver\n",
    "GeckoDriverManager().install()"
   ]
  },
  {
   "cell_type": "code",
   "execution_count": 162,
   "id": "271f2b96-8514-458b-9766-e97e8ce3ae0b",
   "metadata": {},
   "outputs": [],
   "source": [
    "# Initialize the Firefox webdriver\n",
    "options = Options()\n",
    "driver = webdriver.Firefox(options=options)"
   ]
  },
  {
   "cell_type": "code",
   "execution_count": 163,
   "id": "8a88b18d-484e-4163-ab85-b403420ef4d5",
   "metadata": {},
   "outputs": [],
   "source": [
    "import re\n",
    "\n",
    "def check_element (elem):\n",
    "    if elem is None: \n",
    "        return ''\n",
    "    if len (elem) > 0:\n",
    "        return elem.text.strip()\n",
    "    else:\n",
    "        return ''\n",
    "\n",
    "\n",
    "\n",
    "def extract_hourly_or_salary_range(salary_string):\n",
    "    hourly_match = re.search(r'\\$([\\d,]+(?:\\.\\d+)?)\\s?(?:-|to)?\\s?\\$?([\\d,]+(?:\\.\\d+)?)?\\s?\\/\\s?hr', salary_string)\n",
    "    salary_match = re.search(r'\\$([\\d,]+(?:\\.\\d+)?)\\s?K?\\s?\\/\\s?yr\\s?(?:-|to)?\\s?\\$?([\\d,]+(?:\\.\\d+)?)?\\s?K?\\s?\\/\\s?yr', salary_string)\n",
    "\n",
    "    if hourly_match:\n",
    "        hourly_rate_lower = float(hourly_match.group(1).replace(',', ''))\n",
    "        hourly_rate_upper = float(hourly_match.group(2).replace(',', '')) if hourly_match.group(2) else hourly_rate_lower\n",
    "\n",
    "        # Assuming 40 hours per week and 52 weeks per year\n",
    "        annual_lower = hourly_rate_lower * 40 * 52\n",
    "        annual_upper = hourly_rate_upper * 40 * 52\n",
    "\n",
    "        average = (annual_lower + annual_upper) / 2\n",
    "\n",
    "        return [annual_lower, annual_upper, average]\n",
    "    elif salary_match:\n",
    "        salary_lower = float(salary_match.group(1).replace(',', '')) * 1000\n",
    "        salary_upper = float(salary_match.group(2).replace(',', '')) * 1000 if salary_match.group(2) else salary_lower\n",
    "\n",
    "        average = (salary_lower + salary_upper) / 2\n",
    "\n",
    "        return [salary_lower, salary_upper, average]\n",
    "    else:\n",
    "        return [0,0,0]\n"
   ]
  },
  {
   "cell_type": "code",
   "execution_count": 164,
   "id": "43861e0b-88b2-42fd-9dcf-72b02e5a3232",
   "metadata": {},
   "outputs": [],
   "source": [
    "# Open LinkedIn login page\n",
    "driver.get('https://www.linkedin.com/jobs')"
   ]
  },
  {
   "cell_type": "code",
   "execution_count": 165,
   "id": "1025421f-7bd3-42f5-8345-9d2eafa55aeb",
   "metadata": {},
   "outputs": [],
   "source": [
    "email_input = driver.find_element(\"name\", \"session_key\")\n",
    "password_input = driver.find_element(\"name\", \"session_password\")\n",
    "login_button = driver.find_element(\"xpath\", \"//button[@type='submit']\")"
   ]
  },
  {
   "cell_type": "code",
   "execution_count": 166,
   "id": "e2693b46-f5c5-40b5-9c79-9e48752ceaa7",
   "metadata": {},
   "outputs": [],
   "source": [
    "email_input.send_keys(linkedin_email)\n",
    "password_input.send_keys(linkedin_password)"
   ]
  },
  {
   "cell_type": "code",
   "execution_count": 167,
   "id": "ac89b4a3-458f-41ef-911b-16187550b4ed",
   "metadata": {},
   "outputs": [],
   "source": [
    "login_button.click()"
   ]
  },
  {
   "cell_type": "code",
   "execution_count": 168,
   "id": "fa4b57c3-20e1-4b6b-ad3e-5e8479ae2417",
   "metadata": {},
   "outputs": [],
   "source": [
    "search_box = driver.find_element(By.CLASS_NAME, 'jobs-search-box__text-input')\n",
    "search_box.send_keys('Data Analyst')\n",
    "search_box.send_keys(Keys.RETURN)\n"
   ]
  },
  {
   "cell_type": "code",
   "execution_count": 169,
   "id": "c3a4f6bf-c6e0-4589-a253-b7d04ef25054",
   "metadata": {},
   "outputs": [],
   "source": [
    "from selenium.webdriver.common.by import By\n",
    "from selenium.webdriver.support.ui import WebDriverWait\n",
    "from selenium.webdriver.support import expected_conditions as EC\n",
    "\n",
    "# Wait for the element to be visible\n",
    "WebDriverWait(driver, 10).until(EC.visibility_of_element_located((By.ID, \"searchFilter_timePostedRange\")))\n",
    "\n",
    "# Once visible, locate and click on the element\n",
    "date_filter = driver.find_element(By.ID, \"searchFilter_timePostedRange\")\n",
    "date_filter.click()\n",
    "\n",
    "#date_filter = driver.find_element(\"id\", \"searchFilter_timePostedRange\")\n",
    "#date_filter.click()\n"
   ]
  },
  {
   "cell_type": "code",
   "execution_count": 170,
   "id": "2ab91a81-5c01-4528-8ec4-c829c0dade63",
   "metadata": {},
   "outputs": [],
   "source": [
    "class_name = \"t-14 t-black--light t-normal\"\n",
    "span_text = \"week\"\n",
    "\n",
    "past_week_x_path= f\"//span[@class='{class_name}' and contains(.,'{span_text}')]\"\n",
    "past_week = driver.find_element(\"xpath\", past_week_x_path)\n",
    "past_week.click()\n"
   ]
  },
  {
   "cell_type": "code",
   "execution_count": 171,
   "id": "ab42410d-9b6e-4155-ac3d-f022603ec73c",
   "metadata": {},
   "outputs": [],
   "source": [
    "from selenium.webdriver.common.by import By\n",
    "from selenium.webdriver.support.ui import WebDriverWait\n",
    "from selenium.webdriver.support import expected_conditions as EC\n",
    "\n",
    "class_name = \"artdeco-button__text\"\n",
    "span_text = \"results\"\n",
    "show_results_xpath = f\"//span[@class='{class_name}' and contains(.,'{span_text}')]\"\n",
    "# Wait for the element to be clickable\n",
    "show_results = WebDriverWait(driver, 10).until(EC.element_to_be_clickable((By.XPATH, show_results_xpath)))\n",
    "show_results.click()\n",
    "\n"
   ]
  },
  {
   "cell_type": "code",
   "execution_count": 172,
   "id": "09c9fa7f-7980-4e15-8bb4-ff1b13ac8a7a",
   "metadata": {},
   "outputs": [],
   "source": [
    "jobs_block = driver.find_element(By.CSS_SELECTOR, '.scaffold-layout__list-container')\n",
    "jobs_list= jobs_block.find_elements(By.CSS_SELECTOR, '.jobs-search-results__list-item')\n"
   ]
  },
  {
   "cell_type": "code",
   "execution_count": 173,
   "id": "85c1af52-d937-474c-9c55-ee0c33b958e6",
   "metadata": {},
   "outputs": [],
   "source": [
    "# browser.execute_script(\"arguments[0].scrollIntoView();\", target_li_elements[24])\n",
    "driver.execute_script(\"arguments[0].scrollIntoView();\", jobs_list[len(jobs_list)-1])"
   ]
  },
  {
   "cell_type": "code",
   "execution_count": 174,
   "id": "6f1b1b29-096f-40f0-b450-f6d304218a58",
   "metadata": {},
   "outputs": [],
   "source": [
    "from bs4 import BeautifulSoup\n",
    "soup = BeautifulSoup(driver.page_source, \"html.parser\")\n"
   ]
  },
  {
   "cell_type": "code",
   "execution_count": 175,
   "id": "ddcbe336-beb4-4bc5-a4f9-ed2eff42a4f7",
   "metadata": {},
   "outputs": [],
   "source": [
    "target_class = 'jobs-search-results'\n",
    "target_li_elements = soup.find_all('li', class_=lambda x: x and 'jobs-search-results__list-item' in x)"
   ]
  },
  {
   "cell_type": "code",
   "execution_count": null,
   "id": "8611fe72-492f-4e73-ae2d-620a7398ba0e",
   "metadata": {},
   "outputs": [],
   "source": []
  },
  {
   "cell_type": "code",
   "execution_count": null,
   "id": "096c6e2c-a076-450f-a709-81698052e900",
   "metadata": {},
   "outputs": [],
   "source": []
  },
  {
   "cell_type": "code",
   "execution_count": 176,
   "id": "440d5427-8500-479c-8d99-81ddca6495c7",
   "metadata": {},
   "outputs": [],
   "source": [
    "\n",
    "num = 1\n",
    "job_title = check_element(target_li_elements[num].find('a', class_=lambda x: x and 'title' in x))\n",
    "\n",
    "# Assuming extract_hourly_or_salary_range and target_li_elements are defined elsewhere\n",
    "company = check_element(target_li_elements[num].find('span', class_='job-card-container__primary-description'))\n",
    "location = check_element(target_li_elements[num].find('div', class_='artdeco-entity-lockup__caption ember-view'))\n",
    "salary = check_element(target_li_elements[num].find('div', class_= lambda x: x and 'mt1 t-sans t-12 t-black--light' in x))\n",
    "link = target_li_elements[num].find('a').get('href')\n",
    "\n",
    "dic = {\n",
    "    'job_title': job_title,\n",
    "    'company': company,\n",
    "    'location': location,\n",
    "    'salary_string': salary,\n",
    "    'lower_bound_extracted_salary': extract_hourly_or_salary_range(salary)[0],\n",
    "    'upper_extracted_salary': extract_hourly_or_salary_range(salary)[1],\n",
    "    'average_extracted_salary': extract_hourly_or_salary_range(salary)[2],\n",
    "    'link': 'www.linkedin.com' + link\n",
    "}"
   ]
  },
  {
   "cell_type": "code",
   "execution_count": 177,
   "id": "16a711e6-f942-4ef8-8aa5-46b766c666fa",
   "metadata": {},
   "outputs": [],
   "source": [
    "from selenium.webdriver.common.by import By\n",
    "from selenium.webdriver.support.ui import WebDriverWait\n",
    "from selenium.webdriver.support import expected_conditions as EC\n",
    "from selenium.common.exceptions import ElementClickInterceptedException\n",
    "import time\n",
    "\n",
    "# Define the XPath expression for the next page button\n",
    "next_page_xpath = \"//button[@aria-label='Page \" + str(page) + \"']\"\n",
    "\n",
    "# Wait for the next page button to be clickable\n",
    "wait = WebDriverWait(driver, 10)\n",
    "next_page = wait.until(EC.element_to_be_clickable((By.XPATH, next_page_xpath)))\n",
    "\n",
    "# Retry the click with a delay if it fails due to interception\n",
    "retry_attempts = 3\n",
    "for attempt in range(retry_attempts):\n",
    "    try:\n",
    "        next_page.click()\n",
    "        break  # Click successful, exit the loop\n",
    "    except ElementClickInterceptedException:\n",
    "        print(\"Click intercepted. Retrying...\")\n",
    "        time.sleep(1)  # Wait for 1 second before retrying\n",
    "else:\n",
    "    print(\"Failed to click after {} attempts\".format(retry_attempts))"
   ]
  },
  {
   "cell_type": "code",
   "execution_count": 178,
   "id": "1dfd24d1-4166-4daf-a7e0-9254be4cdf74",
   "metadata": {},
   "outputs": [
    {
     "data": {
      "text/plain": [
       "25"
      ]
     },
     "execution_count": 178,
     "metadata": {},
     "output_type": "execute_result"
    }
   ],
   "source": [
    "len (jobs_list)"
   ]
  },
  {
   "cell_type": "code",
   "execution_count": 179,
   "id": "177de70f-e81f-4f68-9bf2-9292890cc48d",
   "metadata": {
    "scrolled": true
   },
   "outputs": [
    {
     "name": "stdout",
     "output_type": "stream",
     "text": [
      "__________\n"
     ]
    },
    {
     "ename": "TimeoutException",
     "evalue": "Message: \nStacktrace:\nRemoteError@chrome://remote/content/shared/RemoteError.sys.mjs:8:8\nWebDriverError@chrome://remote/content/shared/webdriver/Errors.sys.mjs:191:5\nNoSuchElementError@chrome://remote/content/shared/webdriver/Errors.sys.mjs:509:5\ndom.find/</<@chrome://remote/content/shared/DOM.sys.mjs:136:16\n",
     "output_type": "error",
     "traceback": [
      "\u001b[1;31m---------------------------------------------------------------------------\u001b[0m",
      "\u001b[1;31mTimeoutException\u001b[0m                          Traceback (most recent call last)",
      "Cell \u001b[1;32mIn[179], line 11\u001b[0m\n\u001b[0;32m      8\u001b[0m n \u001b[38;5;241m+\u001b[39m\u001b[38;5;241m=\u001b[39m \u001b[38;5;241m1\u001b[39m\n\u001b[0;32m      9\u001b[0m \u001b[38;5;28;01mtry\u001b[39;00m:\n\u001b[0;32m     10\u001b[0m     \u001b[38;5;66;03m# Wait for the element to be clickable\u001b[39;00m\n\u001b[1;32m---> 11\u001b[0m     job_element \u001b[38;5;241m=\u001b[39m WebDriverWait(driver, \u001b[38;5;241m10\u001b[39m)\u001b[38;5;241m.\u001b[39muntil(EC\u001b[38;5;241m.\u001b[39melement_to_be_clickable((By\u001b[38;5;241m.\u001b[39mXPATH, \u001b[38;5;124m\"\u001b[39m\u001b[38;5;124myour_xpath_here\u001b[39m\u001b[38;5;124m\"\u001b[39m)))\n\u001b[0;32m     13\u001b[0m     \u001b[38;5;66;03m# Scroll the element into view\u001b[39;00m\n\u001b[0;32m     14\u001b[0m     driver\u001b[38;5;241m.\u001b[39mexecute_script(\u001b[38;5;124m\"\u001b[39m\u001b[38;5;124marguments[0].scrollIntoView();\u001b[39m\u001b[38;5;124m\"\u001b[39m, job_element)\n",
      "File \u001b[1;32m~\\anaconda_new\\envs\\notebook\\Lib\\site-packages\\selenium\\webdriver\\support\\wait.py:105\u001b[0m, in \u001b[0;36mWebDriverWait.until\u001b[1;34m(self, method, message)\u001b[0m\n\u001b[0;32m    103\u001b[0m     \u001b[38;5;28;01mif\u001b[39;00m time\u001b[38;5;241m.\u001b[39mmonotonic() \u001b[38;5;241m>\u001b[39m end_time:\n\u001b[0;32m    104\u001b[0m         \u001b[38;5;28;01mbreak\u001b[39;00m\n\u001b[1;32m--> 105\u001b[0m \u001b[38;5;28;01mraise\u001b[39;00m TimeoutException(message, screen, stacktrace)\n",
      "\u001b[1;31mTimeoutException\u001b[0m: Message: \nStacktrace:\nRemoteError@chrome://remote/content/shared/RemoteError.sys.mjs:8:8\nWebDriverError@chrome://remote/content/shared/webdriver/Errors.sys.mjs:191:5\nNoSuchElementError@chrome://remote/content/shared/webdriver/Errors.sys.mjs:509:5\ndom.find/</<@chrome://remote/content/shared/DOM.sys.mjs:136:16\n"
     ]
    }
   ],
   "source": [
    "from selenium.webdriver.common.by import By\n",
    "from selenium.webdriver.support.ui import WebDriverWait\n",
    "from selenium.webdriver.support import expected_conditions as EC\n",
    "\n",
    "# Assuming jobs_list is a list of web elements\n",
    "for i in range(len(jobs_list)):\n",
    "    print(\"__________\")\n",
    "    n += 1\n",
    "    try:\n",
    "        # Wait for the element to be clickable\n",
    "        job_element = WebDriverWait(driver, 10).until(EC.element_to_be_clickable((By.XPATH, \"your_xpath_here\")))\n",
    "        \n",
    "        # Scroll the element into view\n",
    "        driver.execute_script(\"arguments[0].scrollIntoView();\", job_element)\n",
    "        \n",
    "        # Print the text of the element\n",
    "        print(n, \" \", job_element.text)\n",
    "    except StaleElementReferenceException:\n",
    "        # Handle stale element reference exception gracefully\n",
    "        print(\"Stale element reference encountered. Retrying...\")\n",
    "        continue"
   ]
  },
  {
   "cell_type": "code",
   "execution_count": null,
   "id": "85aef976-24c4-4664-bbb0-7548a3e4df78",
   "metadata": {},
   "outputs": [],
   "source": []
  },
  {
   "cell_type": "code",
   "execution_count": null,
   "id": "9cb53c2e-314d-4046-8fdb-926ed1665096",
   "metadata": {},
   "outputs": [],
   "source": []
  },
  {
   "cell_type": "code",
   "execution_count": null,
   "id": "1fd99c6b-11be-4747-9317-d11e7fd7322b",
   "metadata": {},
   "outputs": [],
   "source": []
  }
 ],
 "metadata": {
  "kernelspec": {
   "display_name": "Python 3 (ipykernel)",
   "language": "python",
   "name": "python3"
  },
  "language_info": {
   "codemirror_mode": {
    "name": "ipython",
    "version": 3
   },
   "file_extension": ".py",
   "mimetype": "text/x-python",
   "name": "python",
   "nbconvert_exporter": "python",
   "pygments_lexer": "ipython3",
   "version": "3.12.2"
  }
 },
 "nbformat": 4,
 "nbformat_minor": 5
}
